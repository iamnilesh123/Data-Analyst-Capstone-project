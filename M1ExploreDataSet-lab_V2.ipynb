{
  "metadata": {
    "kernelspec": {
      "name": "python",
      "display_name": "Python (Pyodide)",
      "language": "python"
    },
    "language_info": {
      "codemirror_mode": {
        "name": "python",
        "version": 3
      },
      "file_extension": ".py",
      "mimetype": "text/x-python",
      "name": "python",
      "nbconvert_exporter": "python",
      "pygments_lexer": "ipython3",
      "version": "3.8"
    },
    "prev_pub_hash": "75f9cbe799d7bcd81dfecdbcf1653c6ad01ca54b63272be450af5e5346a76987"
  },
  "nbformat_minor": 4,
  "nbformat": 4,
  "cells": [
    {
      "cell_type": "markdown",
      "source": "<p style=\"text-align:center\">\n    <a href=\"https://skills.network\" target=\"_blank\">\n    <img src=\"https://cf-courses-data.s3.us.cloud-object-storage.appdomain.cloud/assets/logos/SN_web_lightmode.png\" width=\"200\" alt=\"Skills Network Logo\"  />\n    </a>\n</p>\n",
      "metadata": {}
    },
    {
      "cell_type": "markdown",
      "source": "# **Lab: Exploring the Dataset**\n",
      "metadata": {}
    },
    {
      "cell_type": "markdown",
      "source": "Estimated time needed: **30** minutes\n",
      "metadata": {}
    },
    {
      "cell_type": "markdown",
      "source": "## Introduction\n",
      "metadata": {}
    },
    {
      "cell_type": "markdown",
      "source": "Data exploration is the initial phase of data analysis where we aim to understand the data's characteristics, identify patterns, and uncover potential insights. It is a crucial step that helps us make informed decisions about subsequent analysis.\n",
      "metadata": {}
    },
    {
      "cell_type": "markdown",
      "source": "## Objectives\n",
      "metadata": {}
    },
    {
      "cell_type": "markdown",
      "source": "After completing this lab, you will be able to:\n",
      "metadata": {}
    },
    {
      "cell_type": "markdown",
      "source": "-   Summarize the key characteristics of a dataset.\n-   Identify different data types commonly used in data analysis.\n",
      "metadata": {}
    },
    {
      "cell_type": "markdown",
      "source": "### Install the required library\n",
      "metadata": {}
    },
    {
      "cell_type": "code",
      "source": "import micropip\n\nawait micropip.install('pandas')\n\n# Import pandas after installation\nimport pandas as pd\nprint(pd.__version__)\n",
      "metadata": {
        "trusted": true
      },
      "outputs": [
        {
          "name": "stderr",
          "text": "<ipython-input-1-4a848102c67d>:6: DeprecationWarning: \nPyarrow will become a required dependency of pandas in the next major release of pandas (pandas 3.0),\n(to allow more performant data types, such as the Arrow string type, and better interoperability with other libraries)\nbut was not found to be installed on your system.\nIf this would cause problems for you,\nplease provide us feedback at https://github.com/pandas-dev/pandas/issues/54466\n        \n  import pandas as pd\n",
          "output_type": "stream"
        },
        {
          "name": "stdout",
          "text": "2.2.0\n",
          "output_type": "stream"
        }
      ],
      "execution_count": 1
    },
    {
      "cell_type": "markdown",
      "source": "## Load the dataset\n",
      "metadata": {}
    },
    {
      "cell_type": "markdown",
      "source": "<h3>Read Data</h3>\n<p>\nWe utilize the <code>pandas.read_csv()</code> function for reading CSV files. However, in this version of the lab, which operates on JupyterLite, the dataset needs to be downloaded to the interface using the provided code below.\n</p>\n",
      "metadata": {}
    },
    {
      "cell_type": "markdown",
      "source": "The functions below will download the dataset into your browser:\n",
      "metadata": {}
    },
    {
      "cell_type": "code",
      "source": "from pyodide.http import pyfetch\n\nasync def download(url, filename):\n    response = await pyfetch(url)\n    if response.status == 200:\n        with open(filename, \"wb\") as f:\n            f.write(await response.bytes())",
      "metadata": {
        "trusted": true
      },
      "outputs": [],
      "execution_count": 2
    },
    {
      "cell_type": "code",
      "source": "file_path = \"https://cf-courses-data.s3.us.cloud-object-storage.appdomain.cloud/n01PQ9pSmiRX6520flujwQ/survey-data.csv\"",
      "metadata": {
        "trusted": true
      },
      "outputs": [],
      "execution_count": 3
    },
    {
      "cell_type": "markdown",
      "source": "To obtain the dataset, utilize the download() function as defined above:  \n",
      "metadata": {}
    },
    {
      "cell_type": "code",
      "source": "await download(file_path, \"survey_data.csv\")\nfile_name=\"survey_data.csv\"",
      "metadata": {
        "trusted": true
      },
      "outputs": [],
      "execution_count": 4
    },
    {
      "cell_type": "markdown",
      "source": "Utilize the Pandas method read_csv() to load the data into a dataframe.\n",
      "metadata": {}
    },
    {
      "cell_type": "code",
      "source": "df = pd.read_csv(file_name)",
      "metadata": {
        "trusted": true
      },
      "outputs": [],
      "execution_count": 5
    },
    {
      "cell_type": "markdown",
      "source": "> Note: This version of the lab is working on JupyterLite, which requires the dataset to be downloaded to the interface.While working on the downloaded version of this notebook on their local machines(Jupyter Anaconda), the learners can simply **skip the steps above,** and simply use the URL directly in the `pandas.read_csv()` function. You can uncomment and run the statements in the cell below.\n",
      "metadata": {}
    },
    {
      "cell_type": "markdown",
      "source": "# Hands on Lab\n",
      "metadata": {}
    },
    {
      "cell_type": "markdown",
      "source": "## Explore the dataset\n",
      "metadata": {}
    },
    {
      "cell_type": "markdown",
      "source": "It is a good idea to print the top 5 rows of the dataset to get a feel of how the dataset will look.\n",
      "metadata": {}
    },
    {
      "cell_type": "markdown",
      "source": "Display the top 5 rows and columns from your dataset.\n",
      "metadata": {}
    },
    {
      "cell_type": "code",
      "source": "## Write your code here\ndf.head()",
      "metadata": {
        "trusted": true
      },
      "outputs": [
        {
          "execution_count": 6,
          "output_type": "execute_result",
          "data": {
            "text/plain": "   ResponseId                      MainBranch                 Age  \\\n0           1  I am a developer by profession  Under 18 years old   \n1           2  I am a developer by profession     35-44 years old   \n2           3  I am a developer by profession     45-54 years old   \n3           4           I am learning to code     18-24 years old   \n4           5  I am a developer by profession     18-24 years old   \n\n            Employment RemoteWork   Check  \\\n0  Employed, full-time     Remote  Apples   \n1  Employed, full-time     Remote  Apples   \n2  Employed, full-time     Remote  Apples   \n3   Student, full-time        NaN  Apples   \n4   Student, full-time        NaN  Apples   \n\n                                    CodingActivities  \\\n0                                              Hobby   \n1  Hobby;Contribute to open-source projects;Other...   \n2  Hobby;Contribute to open-source projects;Other...   \n3                                                NaN   \n4                                                NaN   \n\n                                             EdLevel  \\\n0                          Primary/elementary school   \n1       Bachelor’s degree (B.A., B.S., B.Eng., etc.)   \n2    Master’s degree (M.A., M.S., M.Eng., MBA, etc.)   \n3  Some college/university study without earning ...   \n4  Secondary school (e.g. American high school, G...   \n\n                                           LearnCode  \\\n0                             Books / Physical media   \n1  Books / Physical media;Colleague;On the job tr...   \n2  Books / Physical media;Colleague;On the job tr...   \n3  Other online resources (e.g., videos, blogs, f...   \n4  Other online resources (e.g., videos, blogs, f...   \n\n                                     LearnCodeOnline  ... JobSatPoints_6  \\\n0                                                NaN  ...            NaN   \n1  Technical documentation;Blogs;Books;Written Tu...  ...            0.0   \n2  Technical documentation;Blogs;Books;Written Tu...  ...            NaN   \n3  Stack Overflow;How-to videos;Interactive tutorial  ...            NaN   \n4  Technical documentation;Blogs;Written Tutorial...  ...            NaN   \n\n  JobSatPoints_7 JobSatPoints_8 JobSatPoints_9 JobSatPoints_10  \\\n0            NaN            NaN            NaN             NaN   \n1            0.0            0.0            0.0             0.0   \n2            NaN            NaN            NaN             NaN   \n3            NaN            NaN            NaN             NaN   \n4            NaN            NaN            NaN             NaN   \n\n  JobSatPoints_11           SurveyLength SurveyEase ConvertedCompYearly JobSat  \n0             NaN                    NaN        NaN                 NaN    NaN  \n1             0.0                    NaN        NaN                 NaN    NaN  \n2             NaN  Appropriate in length       Easy                 NaN    NaN  \n3             NaN               Too long       Easy                 NaN    NaN  \n4             NaN              Too short       Easy                 NaN    NaN  \n\n[5 rows x 114 columns]",
            "text/html": "<div>\n<style scoped>\n    .dataframe tbody tr th:only-of-type {\n        vertical-align: middle;\n    }\n\n    .dataframe tbody tr th {\n        vertical-align: top;\n    }\n\n    .dataframe thead th {\n        text-align: right;\n    }\n</style>\n<table border=\"1\" class=\"dataframe\">\n  <thead>\n    <tr style=\"text-align: right;\">\n      <th></th>\n      <th>ResponseId</th>\n      <th>MainBranch</th>\n      <th>Age</th>\n      <th>Employment</th>\n      <th>RemoteWork</th>\n      <th>Check</th>\n      <th>CodingActivities</th>\n      <th>EdLevel</th>\n      <th>LearnCode</th>\n      <th>LearnCodeOnline</th>\n      <th>...</th>\n      <th>JobSatPoints_6</th>\n      <th>JobSatPoints_7</th>\n      <th>JobSatPoints_8</th>\n      <th>JobSatPoints_9</th>\n      <th>JobSatPoints_10</th>\n      <th>JobSatPoints_11</th>\n      <th>SurveyLength</th>\n      <th>SurveyEase</th>\n      <th>ConvertedCompYearly</th>\n      <th>JobSat</th>\n    </tr>\n  </thead>\n  <tbody>\n    <tr>\n      <th>0</th>\n      <td>1</td>\n      <td>I am a developer by profession</td>\n      <td>Under 18 years old</td>\n      <td>Employed, full-time</td>\n      <td>Remote</td>\n      <td>Apples</td>\n      <td>Hobby</td>\n      <td>Primary/elementary school</td>\n      <td>Books / Physical media</td>\n      <td>NaN</td>\n      <td>...</td>\n      <td>NaN</td>\n      <td>NaN</td>\n      <td>NaN</td>\n      <td>NaN</td>\n      <td>NaN</td>\n      <td>NaN</td>\n      <td>NaN</td>\n      <td>NaN</td>\n      <td>NaN</td>\n      <td>NaN</td>\n    </tr>\n    <tr>\n      <th>1</th>\n      <td>2</td>\n      <td>I am a developer by profession</td>\n      <td>35-44 years old</td>\n      <td>Employed, full-time</td>\n      <td>Remote</td>\n      <td>Apples</td>\n      <td>Hobby;Contribute to open-source projects;Other...</td>\n      <td>Bachelor’s degree (B.A., B.S., B.Eng., etc.)</td>\n      <td>Books / Physical media;Colleague;On the job tr...</td>\n      <td>Technical documentation;Blogs;Books;Written Tu...</td>\n      <td>...</td>\n      <td>0.0</td>\n      <td>0.0</td>\n      <td>0.0</td>\n      <td>0.0</td>\n      <td>0.0</td>\n      <td>0.0</td>\n      <td>NaN</td>\n      <td>NaN</td>\n      <td>NaN</td>\n      <td>NaN</td>\n    </tr>\n    <tr>\n      <th>2</th>\n      <td>3</td>\n      <td>I am a developer by profession</td>\n      <td>45-54 years old</td>\n      <td>Employed, full-time</td>\n      <td>Remote</td>\n      <td>Apples</td>\n      <td>Hobby;Contribute to open-source projects;Other...</td>\n      <td>Master’s degree (M.A., M.S., M.Eng., MBA, etc.)</td>\n      <td>Books / Physical media;Colleague;On the job tr...</td>\n      <td>Technical documentation;Blogs;Books;Written Tu...</td>\n      <td>...</td>\n      <td>NaN</td>\n      <td>NaN</td>\n      <td>NaN</td>\n      <td>NaN</td>\n      <td>NaN</td>\n      <td>NaN</td>\n      <td>Appropriate in length</td>\n      <td>Easy</td>\n      <td>NaN</td>\n      <td>NaN</td>\n    </tr>\n    <tr>\n      <th>3</th>\n      <td>4</td>\n      <td>I am learning to code</td>\n      <td>18-24 years old</td>\n      <td>Student, full-time</td>\n      <td>NaN</td>\n      <td>Apples</td>\n      <td>NaN</td>\n      <td>Some college/university study without earning ...</td>\n      <td>Other online resources (e.g., videos, blogs, f...</td>\n      <td>Stack Overflow;How-to videos;Interactive tutorial</td>\n      <td>...</td>\n      <td>NaN</td>\n      <td>NaN</td>\n      <td>NaN</td>\n      <td>NaN</td>\n      <td>NaN</td>\n      <td>NaN</td>\n      <td>Too long</td>\n      <td>Easy</td>\n      <td>NaN</td>\n      <td>NaN</td>\n    </tr>\n    <tr>\n      <th>4</th>\n      <td>5</td>\n      <td>I am a developer by profession</td>\n      <td>18-24 years old</td>\n      <td>Student, full-time</td>\n      <td>NaN</td>\n      <td>Apples</td>\n      <td>NaN</td>\n      <td>Secondary school (e.g. American high school, G...</td>\n      <td>Other online resources (e.g., videos, blogs, f...</td>\n      <td>Technical documentation;Blogs;Written Tutorial...</td>\n      <td>...</td>\n      <td>NaN</td>\n      <td>NaN</td>\n      <td>NaN</td>\n      <td>NaN</td>\n      <td>NaN</td>\n      <td>NaN</td>\n      <td>Too short</td>\n      <td>Easy</td>\n      <td>NaN</td>\n      <td>NaN</td>\n    </tr>\n  </tbody>\n</table>\n<p>5 rows × 114 columns</p>\n</div>"
          },
          "metadata": {}
        }
      ],
      "execution_count": 6
    },
    {
      "cell_type": "code",
      "source": "\ndf.columns.tolist()",
      "metadata": {
        "trusted": true
      },
      "outputs": [
        {
          "execution_count": 7,
          "output_type": "execute_result",
          "data": {
            "text/plain": "['ResponseId',\n 'MainBranch',\n 'Age',\n 'Employment',\n 'RemoteWork',\n 'Check',\n 'CodingActivities',\n 'EdLevel',\n 'LearnCode',\n 'LearnCodeOnline',\n 'TechDoc',\n 'YearsCode',\n 'YearsCodePro',\n 'DevType',\n 'OrgSize',\n 'PurchaseInfluence',\n 'BuyNewTool',\n 'BuildvsBuy',\n 'TechEndorse',\n 'Country',\n 'Currency',\n 'CompTotal',\n 'LanguageHaveWorkedWith',\n 'LanguageWantToWorkWith',\n 'LanguageAdmired',\n 'DatabaseHaveWorkedWith',\n 'DatabaseWantToWorkWith',\n 'DatabaseAdmired',\n 'PlatformHaveWorkedWith',\n 'PlatformWantToWorkWith',\n 'PlatformAdmired',\n 'WebframeHaveWorkedWith',\n 'WebframeWantToWorkWith',\n 'WebframeAdmired',\n 'EmbeddedHaveWorkedWith',\n 'EmbeddedWantToWorkWith',\n 'EmbeddedAdmired',\n 'MiscTechHaveWorkedWith',\n 'MiscTechWantToWorkWith',\n 'MiscTechAdmired',\n 'ToolsTechHaveWorkedWith',\n 'ToolsTechWantToWorkWith',\n 'ToolsTechAdmired',\n 'NEWCollabToolsHaveWorkedWith',\n 'NEWCollabToolsWantToWorkWith',\n 'NEWCollabToolsAdmired',\n 'OpSysPersonal use',\n 'OpSysProfessional use',\n 'OfficeStackAsyncHaveWorkedWith',\n 'OfficeStackAsyncWantToWorkWith',\n 'OfficeStackAsyncAdmired',\n 'OfficeStackSyncHaveWorkedWith',\n 'OfficeStackSyncWantToWorkWith',\n 'OfficeStackSyncAdmired',\n 'AISearchDevHaveWorkedWith',\n 'AISearchDevWantToWorkWith',\n 'AISearchDevAdmired',\n 'NEWSOSites',\n 'SOVisitFreq',\n 'SOAccount',\n 'SOPartFreq',\n 'SOHow',\n 'SOComm',\n 'AISelect',\n 'AISent',\n 'AIBen',\n 'AIAcc',\n 'AIComplex',\n 'AIToolCurrently Using',\n 'AIToolInterested in Using',\n 'AIToolNot interested in Using',\n 'AINextMuch more integrated',\n 'AINextNo change',\n 'AINextMore integrated',\n 'AINextLess integrated',\n 'AINextMuch less integrated',\n 'AIThreat',\n 'AIEthics',\n 'AIChallenges',\n 'TBranch',\n 'ICorPM',\n 'WorkExp',\n 'Knowledge_1',\n 'Knowledge_2',\n 'Knowledge_3',\n 'Knowledge_4',\n 'Knowledge_5',\n 'Knowledge_6',\n 'Knowledge_7',\n 'Knowledge_8',\n 'Knowledge_9',\n 'Frequency_1',\n 'Frequency_2',\n 'Frequency_3',\n 'TimeSearching',\n 'TimeAnswering',\n 'Frustration',\n 'ProfessionalTech',\n 'ProfessionalCloud',\n 'ProfessionalQuestion',\n 'Industry',\n 'JobSatPoints_1',\n 'JobSatPoints_4',\n 'JobSatPoints_5',\n 'JobSatPoints_6',\n 'JobSatPoints_7',\n 'JobSatPoints_8',\n 'JobSatPoints_9',\n 'JobSatPoints_10',\n 'JobSatPoints_11',\n 'SurveyLength',\n 'SurveyEase',\n 'ConvertedCompYearly',\n 'JobSat']"
          },
          "metadata": {}
        }
      ],
      "execution_count": 7
    },
    {
      "cell_type": "markdown",
      "source": "## Find out the number of rows and columns\n",
      "metadata": {}
    },
    {
      "cell_type": "markdown",
      "source": "Start by exploring the numbers of rows and columns of data in the dataset.\n",
      "metadata": {}
    },
    {
      "cell_type": "markdown",
      "source": "Print the number of rows in the dataset.\n",
      "metadata": {}
    },
    {
      "cell_type": "code",
      "source": "## Write your code here\ndf.shape",
      "metadata": {
        "trusted": true
      },
      "outputs": [
        {
          "execution_count": 8,
          "output_type": "execute_result",
          "data": {
            "text/plain": "(65437, 114)"
          },
          "metadata": {}
        }
      ],
      "execution_count": 8
    },
    {
      "cell_type": "markdown",
      "source": "Print the number of columns in the dataset.\n",
      "metadata": {}
    },
    {
      "cell_type": "code",
      "source": "## Write your code here\nlen(df.columns)",
      "metadata": {
        "trusted": true
      },
      "outputs": [
        {
          "execution_count": 9,
          "output_type": "execute_result",
          "data": {
            "text/plain": "114"
          },
          "metadata": {}
        }
      ],
      "execution_count": 9
    },
    {
      "cell_type": "markdown",
      "source": "## Identify the data types of each column\n",
      "metadata": {}
    },
    {
      "cell_type": "markdown",
      "source": "Explore the dataset and identify the data types of each column.\n",
      "metadata": {}
    },
    {
      "cell_type": "markdown",
      "source": "Print the datatype of all columns.\n",
      "metadata": {}
    },
    {
      "cell_type": "code",
      "source": "## Write your code here\n\n# Set option to display all columns\npd.set_option('display.max_columns', 10)\n\n        ",
      "metadata": {
        "trusted": true
      },
      "outputs": [],
      "execution_count": 10
    },
    {
      "cell_type": "code",
      "source": " for column in df.columns.tolist():\n     print ('{}-->{}'.format(column,df[column].dtypes))",
      "metadata": {
        "trusted": true
      },
      "outputs": [
        {
          "name": "stdout",
          "text": "ResponseId-->int64\nMainBranch-->object\nAge-->object\nEmployment-->object\nRemoteWork-->object\nCheck-->object\nCodingActivities-->object\nEdLevel-->object\nLearnCode-->object\nLearnCodeOnline-->object\nTechDoc-->object\nYearsCode-->object\nYearsCodePro-->object\nDevType-->object\nOrgSize-->object\nPurchaseInfluence-->object\nBuyNewTool-->object\nBuildvsBuy-->object\nTechEndorse-->object\nCountry-->object\nCurrency-->object\nCompTotal-->float64\nLanguageHaveWorkedWith-->object\nLanguageWantToWorkWith-->object\nLanguageAdmired-->object\nDatabaseHaveWorkedWith-->object\nDatabaseWantToWorkWith-->object\nDatabaseAdmired-->object\nPlatformHaveWorkedWith-->object\nPlatformWantToWorkWith-->object\nPlatformAdmired-->object\nWebframeHaveWorkedWith-->object\nWebframeWantToWorkWith-->object\nWebframeAdmired-->object\nEmbeddedHaveWorkedWith-->object\nEmbeddedWantToWorkWith-->object\nEmbeddedAdmired-->object\nMiscTechHaveWorkedWith-->object\nMiscTechWantToWorkWith-->object\nMiscTechAdmired-->object\nToolsTechHaveWorkedWith-->object\nToolsTechWantToWorkWith-->object\nToolsTechAdmired-->object\nNEWCollabToolsHaveWorkedWith-->object\nNEWCollabToolsWantToWorkWith-->object\nNEWCollabToolsAdmired-->object\nOpSysPersonal use-->object\nOpSysProfessional use-->object\nOfficeStackAsyncHaveWorkedWith-->object\nOfficeStackAsyncWantToWorkWith-->object\nOfficeStackAsyncAdmired-->object\nOfficeStackSyncHaveWorkedWith-->object\nOfficeStackSyncWantToWorkWith-->object\nOfficeStackSyncAdmired-->object\nAISearchDevHaveWorkedWith-->object\nAISearchDevWantToWorkWith-->object\nAISearchDevAdmired-->object\nNEWSOSites-->object\nSOVisitFreq-->object\nSOAccount-->object\nSOPartFreq-->object\nSOHow-->object\nSOComm-->object\nAISelect-->object\nAISent-->object\nAIBen-->object\nAIAcc-->object\nAIComplex-->object\nAIToolCurrently Using-->object\nAIToolInterested in Using-->object\nAIToolNot interested in Using-->object\nAINextMuch more integrated-->object\nAINextNo change-->object\nAINextMore integrated-->object\nAINextLess integrated-->object\nAINextMuch less integrated-->object\nAIThreat-->object\nAIEthics-->object\nAIChallenges-->object\nTBranch-->object\nICorPM-->object\nWorkExp-->float64\nKnowledge_1-->object\nKnowledge_2-->object\nKnowledge_3-->object\nKnowledge_4-->object\nKnowledge_5-->object\nKnowledge_6-->object\nKnowledge_7-->object\nKnowledge_8-->object\nKnowledge_9-->object\nFrequency_1-->object\nFrequency_2-->object\nFrequency_3-->object\nTimeSearching-->object\nTimeAnswering-->object\nFrustration-->object\nProfessionalTech-->object\nProfessionalCloud-->object\nProfessionalQuestion-->object\nIndustry-->object\nJobSatPoints_1-->float64\nJobSatPoints_4-->float64\nJobSatPoints_5-->float64\nJobSatPoints_6-->float64\nJobSatPoints_7-->float64\nJobSatPoints_8-->float64\nJobSatPoints_9-->float64\nJobSatPoints_10-->float64\nJobSatPoints_11-->float64\nSurveyLength-->object\nSurveyEase-->object\nConvertedCompYearly-->float64\nJobSat-->float64\n",
          "output_type": "stream"
        }
      ],
      "execution_count": 11
    },
    {
      "cell_type": "markdown",
      "source": "Print the mean age of the survey participants.\n",
      "metadata": {}
    },
    {
      "cell_type": "code",
      "source": "## Write your code here\ndf['Age']",
      "metadata": {
        "trusted": true
      },
      "outputs": [
        {
          "execution_count": 12,
          "output_type": "execute_result",
          "data": {
            "text/plain": "0        Under 18 years old\n1           35-44 years old\n2           45-54 years old\n3           18-24 years old\n4           18-24 years old\n                ...        \n65432       18-24 years old\n65433       25-34 years old\n65434       25-34 years old\n65435       18-24 years old\n65436       18-24 years old\nName: Age, Length: 65437, dtype: object"
          },
          "metadata": {}
        }
      ],
      "execution_count": 12
    },
    {
      "cell_type": "code",
      "source": "df['Age'].unique()",
      "metadata": {
        "trusted": true
      },
      "outputs": [
        {
          "execution_count": 13,
          "output_type": "execute_result",
          "data": {
            "text/plain": "array(['Under 18 years old', '35-44 years old', '45-54 years old',\n       '18-24 years old', '25-34 years old', '55-64 years old',\n       'Prefer not to say', '65 years or older'], dtype=object)"
          },
          "metadata": {}
        }
      ],
      "execution_count": 13
    },
    {
      "cell_type": "code",
      "source": "df['Age'].unique().tolist()",
      "metadata": {
        "trusted": true,
        "scrolled": true
      },
      "outputs": [
        {
          "execution_count": 16,
          "output_type": "execute_result",
          "data": {
            "text/plain": "['Under 18 years old',\n '35-44 years old',\n '45-54 years old',\n '18-24 years old',\n '25-34 years old',\n '55-64 years old',\n 'Prefer not to say',\n '65 years or older']"
          },
          "metadata": {}
        }
      ],
      "execution_count": 16
    },
    {
      "cell_type": "code",
      "source": "# Mapping age groups to numeric values\nage_mapping = {\n    'Under 18 years old': 17,\n    '18-24 years old': 21,\n    '25-34 years old': 29,\n    '35-44 years old': 39,\n    '45-54 years old': 49,\n    '55-64 years old': 59,\n    '65-74 years old': 69,\n    '75 years old and over': 80\n}",
      "metadata": {
        "trusted": true
      },
      "outputs": [],
      "execution_count": 17
    },
    {
      "cell_type": "code",
      "source": "df['NumericAge']=df['Age'].map(age_mapping)",
      "metadata": {
        "trusted": true
      },
      "outputs": [],
      "execution_count": 18
    },
    {
      "cell_type": "code",
      "source": "df['NumericAge'].mean()",
      "metadata": {
        "trusted": true
      },
      "outputs": [
        {
          "execution_count": 21,
          "output_type": "execute_result",
          "data": {
            "text/plain": "32.23345196835709"
          },
          "metadata": {}
        }
      ],
      "execution_count": 21
    },
    {
      "cell_type": "markdown",
      "source": "The dataset is the result of a world wide survey. Print how many unique countries are there in the Country column.\n",
      "metadata": {}
    },
    {
      "cell_type": "code",
      "source": "## Write your code here\ndf['Country'].unique()",
      "metadata": {
        "trusted": true
      },
      "outputs": [
        {
          "execution_count": 23,
          "output_type": "execute_result",
          "data": {
            "text/plain": "array(['United States of America',\n       'United Kingdom of Great Britain and Northern Ireland', 'Canada',\n       'Norway', 'Uzbekistan', 'Serbia', 'Poland', 'Philippines',\n       'Bulgaria', 'Switzerland', 'India', 'Germany', 'Ireland', 'Italy',\n       'Ukraine', 'Australia', 'Brazil', 'Japan', 'Austria',\n       'Iran, Islamic Republic of...', 'France', 'Saudi Arabia',\n       'Romania', 'Turkey', 'Nepal', 'Algeria', 'Sweden', 'Netherlands',\n       'Croatia', 'Pakistan', 'Czech Republic',\n       'Republic of North Macedonia', 'Finland', 'Slovakia',\n       'Russian Federation', 'Greece', 'Israel', 'Belgium', 'Mexico',\n       'United Republic of Tanzania', 'Hungary', 'Argentina', 'Portugal',\n       'Sri Lanka', 'Latvia', 'China', 'Singapore', 'Lebanon', 'Spain',\n       'South Africa', 'Lithuania', 'Viet Nam', 'Dominican Republic',\n       'Indonesia', 'Kosovo', 'Morocco', 'Taiwan', 'Georgia',\n       'San Marino', 'Tunisia', 'Bangladesh', 'Nigeria', 'Liechtenstein',\n       'Denmark', 'Ecuador', 'Malaysia', 'Albania', 'Azerbaijan', 'Chile',\n       'Ghana', 'Peru', 'Bolivia', 'Egypt', 'Luxembourg', 'Montenegro',\n       'Cyprus', 'Paraguay', 'Kazakhstan', 'Slovenia', 'Jordan',\n       'Venezuela, Bolivarian Republic of...', 'Costa Rica', 'Jamaica',\n       'Thailand', 'Nicaragua', 'Myanmar', 'Republic of Korea', 'Rwanda',\n       'Bosnia and Herzegovina', 'Benin', 'El Salvador', 'Zimbabwe',\n       'Afghanistan', 'Estonia', 'Malta', 'Uruguay', 'Belarus',\n       'Colombia', 'Republic of Moldova', 'Isle of Man', 'Nomadic',\n       'New Zealand', 'Palestine', 'Armenia', 'United Arab Emirates',\n       'Maldives', 'Ethiopia', 'Fiji', 'Guatemala', 'Uganda',\n       'Turkmenistan', 'Mauritius', 'Kenya', 'Cuba', 'Gabon', 'Bahamas',\n       'South Korea', 'Iceland', 'Honduras', 'Hong Kong (S.A.R.)',\n       \"Lao People's Democratic Republic\", 'Mongolia', 'Cambodia',\n       'Madagascar', 'Angola', 'Democratic Republic of the Congo',\n       'Syrian Arab Republic', 'Iraq', 'Namibia', 'Senegal', 'Kyrgyzstan',\n       'Zambia', 'Swaziland', \"Côte d'Ivoire\", 'Kuwait', 'Tajikistan',\n       'Burundi', 'Trinidad and Tobago', 'Mauritania', 'Sierra Leone',\n       'Panama', 'Somalia', 'North Korea', 'Dominica', 'Guyana', 'Togo',\n       'Oman', 'Barbados', 'Andorra',\n       \"Democratic People's Republic of Korea\", 'Qatar', 'Sudan',\n       'Cameroon', 'Papua New Guinea', 'Bahrain', 'Yemen', 'Malawi',\n       'Burkina Faso', 'Congo, Republic of the...', 'Botswana',\n       'Guinea-Bissau', 'Mozambique', 'Central African Republic',\n       'Equatorial Guinea', 'Suriname', 'Belize',\n       'Libyan Arab Jamahiriya', 'Cape Verde', 'Brunei Darussalam',\n       'Bhutan', 'Guinea', 'Niger', 'Antigua and Barbuda', 'Mali',\n       'Samoa', 'Lesotho', 'Saint Kitts and Nevis', 'Monaco',\n       'Micronesia, Federated States of...', 'Haiti', nan, 'Nauru',\n       'Liberia', 'Chad', 'Djibouti', 'Solomon Islands'], dtype=object)"
          },
          "metadata": {}
        }
      ],
      "execution_count": 23
    },
    {
      "cell_type": "markdown",
      "source": "Copyright ©  IBM Corporation. All rights reserved.\n",
      "metadata": {}
    }
  ]
}